{
 "cells": [
  {
   "cell_type": "code",
   "execution_count": 16,
   "metadata": {},
   "outputs": [],
   "source": [
    "import json\n",
    "from IPython.display import HTML"
   ]
  },
  {
   "cell_type": "code",
   "execution_count": null,
   "metadata": {},
   "outputs": [],
   "source": [
    "# read json file\n",
    "with open('../dummy_trajectories.json', 'r') as f:\n",
    "    trajectories = json.load(f)\n",
    "\n",
    "print(trajectory)"
   ]
  },
  {
   "cell_type": "code",
   "execution_count": 22,
   "metadata": {},
   "outputs": [],
   "source": [
    "def format_trajectory(trajectory):\n",
    "    query = trajectory['query']\n",
    "    response = trajectory['response']\n",
    "    format_reward = trajectory['format_reward']\n",
    "    equation_reward = trajectory['equation_reward']\n",
    "    html_content = \"\"\"\n",
    "    <style>\n",
    "        .container {\n",
    "            font-family: Arial, sans-serif;\n",
    "            border: 1px solid #ddd;\n",
    "            border-radius: 8px;\n",
    "            padding: 15px;\n",
    "            margin-bottom: 10px;\n",
    "            background-color: #f9f9f9;\n",
    "            max-width: 600px;\n",
    "        }\n",
    "        .query {\n",
    "            color: #444;\n",
    "            background-color: #e0e0e0;\n",
    "            padding: 8px;\n",
    "            border-radius: 5px;\n",
    "        }\n",
    "        .response {\n",
    "            color: #222;\n",
    "            background-color: #d6d6d6;\n",
    "            padding: 8px;\n",
    "            border-radius: 5px;\n",
    "        }\n",
    "        .tag {\n",
    "            display: inline-block;\n",
    "            padding: 5px 10px;\n",
    "            margin-right: 5px;\n",
    "            border-radius: 15px;\n",
    "            font-size: 14px;\n",
    "            font-weight: bold;\n",
    "            color: white;\n",
    "        }\n",
    "        .format-reward {\n",
    "            background-color: #ff9800; /* Orange */\n",
    "        }\n",
    "        .equation-reward {\n",
    "            background-color: #4caf50; /* Green */\n",
    "        }\n",
    "    </style>\n",
    "    \"\"\"\n",
    "    html_content += f\"\"\"\n",
    "    <div class=\"container\">\n",
    "        <span class=\"tag format-reward\">Format Reward: {format_reward}</span>\n",
    "        <span class=\"tag equation-reward\">Equation Reward: {equation_reward}</span>\n",
    "        <p class=\"query\">Query: {query}</p>\n",
    "        <p class=\"response\">Response: {response}</p>\n",
    "    </div>\n",
    "    \"\"\"\n",
    "    \n",
    "    return HTML(html_content)"
   ]
  },
  {
   "cell_type": "code",
   "execution_count": null,
   "metadata": {},
   "outputs": [],
   "source": [
    "format_trajectory(trajectories[0])"
   ]
  }
 ],
 "metadata": {
  "kernelspec": {
   "display_name": "Python 3 fixed modules",
   "language": "python",
   "name": "python3_fixed"
  },
  "language_info": {
   "codemirror_mode": {
    "name": "ipython",
    "version": 3
   },
   "file_extension": ".py",
   "mimetype": "text/x-python",
   "name": "python",
   "nbconvert_exporter": "python",
   "pygments_lexer": "ipython3",
   "version": "3.10.11"
  }
 },
 "nbformat": 4,
 "nbformat_minor": 2
}
